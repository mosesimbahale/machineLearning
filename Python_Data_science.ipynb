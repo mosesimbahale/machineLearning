{
  "nbformat": 4,
  "nbformat_minor": 0,
  "metadata": {
    "colab": {
      "name": "Python Data science.ipynb",
      "provenance": [],
      "collapsed_sections": [],
      "toc_visible": true
    },
    "kernelspec": {
      "name": "python3",
      "display_name": "Python 3"
    },
    "language_info": {
      "name": "python"
    }
  },
  "cells": [
    {
      "cell_type": "code",
      "metadata": {
        "colab": {
          "base_uri": "https://localhost:8080/"
        },
        "id": "AnBrEUSaXoNN",
        "outputId": "66a6a4af-d6aa-4ed8-9779-a62faff2845e"
      },
      "source": [
        "from google.colab import drive\n",
        "drive.mount ('/content/drive')"
      ],
      "execution_count": null,
      "outputs": [
        {
          "output_type": "stream",
          "name": "stdout",
          "text": [
            "Mounted at /content/drive\n"
          ]
        }
      ]
    },
    {
      "cell_type": "code",
      "metadata": {
        "id": "pY9Nk0rTY8ah",
        "colab": {
          "base_uri": "https://localhost:8080/"
        },
        "outputId": "2268d789-8162-478c-fa41-23b0e31f9760"
      },
      "source": [
        "L = list(range(10))\n",
        "L "
      ],
      "execution_count": null,
      "outputs": [
        {
          "output_type": "execute_result",
          "data": {
            "text/plain": [
              "[0, 1, 2, 3, 4, 5, 6, 7, 8, 9]"
            ]
          },
          "metadata": {},
          "execution_count": 2
        }
      ]
    },
    {
      "cell_type": "markdown",
      "metadata": {
        "id": "8YBkWasMaoLj"
      },
      "source": [
        "A Python List Is More Than Just a List \n"
      ]
    },
    {
      "cell_type": "code",
      "metadata": {
        "colab": {
          "base_uri": "https://localhost:8080/"
        },
        "id": "unQW2GMMasWB",
        "outputId": "7f71652e-52a7-4ba5-b9fb-9c65c36fb5cc"
      },
      "source": [
        " type(L[0]) "
      ],
      "execution_count": null,
      "outputs": [
        {
          "output_type": "execute_result",
          "data": {
            "text/plain": [
              "int"
            ]
          },
          "metadata": {},
          "execution_count": 3
        }
      ]
    },
    {
      "cell_type": "code",
      "metadata": {
        "colab": {
          "base_uri": "https://localhost:8080/"
        },
        "id": "bAaybTUua2Zg",
        "outputId": "1954355b-ad2b-49c3-ece2-ecf1ab26ec0e"
      },
      "source": [
        " L2 = [str(c) for c in L]\n",
        "L2 "
      ],
      "execution_count": null,
      "outputs": [
        {
          "output_type": "execute_result",
          "data": {
            "text/plain": [
              "['0', '1', '2', '3', '4', '5', '6', '7', '8', '9']"
            ]
          },
          "metadata": {},
          "execution_count": 4
        }
      ]
    },
    {
      "cell_type": "markdown",
      "metadata": {
        "id": "ZMW4dDY1dq2G"
      },
      "source": [
        "#LISTS IN PYTHON\n"
      ]
    },
    {
      "cell_type": "code",
      "metadata": {
        "colab": {
          "base_uri": "https://localhost:8080/"
        },
        "id": "e1O-EdtxdxwE",
        "outputId": "849d1b33-a437-4fd9-c706-8fbf7c8ddd27"
      },
      "source": [
        "L3 = [True, \"2\", 3.0, 4]\n",
        "[type(item) for item in L3] "
      ],
      "execution_count": null,
      "outputs": [
        {
          "output_type": "execute_result",
          "data": {
            "text/plain": [
              "[bool, str, float, int]"
            ]
          },
          "metadata": {},
          "execution_count": 5
        }
      ]
    },
    {
      "cell_type": "markdown",
      "metadata": {
        "id": "kPWs5Ln_dy2Q"
      },
      "source": [
        "Because of Python’s dynamic typing, we can even create heterogeneous \n",
        "\n",
        "But this flexibility comes at a cost: to allow these flexible types, each item in the list must contain its own type info, reference count, and other information—that is, each item is a complete Python object. In the special case that all variables are of the same type, much of this information is redundant: it can be much more efficient to store data in a fixed-type array. The difference between a dynamic-type list and a fixed-type (NumPy-style) array is illustrated in Figure 2-2. At the implementation level, the array essentially contains a single pointer to one con‐ tiguous block of data. The Python list, on the other hand, contains a pointer to a block of pointers, each of which in turn points to a full Python object like the Python integer we saw earlier. Again, the advantage of the list is flexibility: because each list element is a full structure containing both data and type information, the list can be filled with data of any desired type. Fixed-type NumPy-style arrays lack this flexibil‐ ity, but are much more efficient for storing and manipulating data. "
      ]
    },
    {
      "cell_type": "markdown",
      "metadata": {
        "id": "SqFOBnese34a"
      },
      "source": [
        "# CREATING ARRAYS FROM PYTHON LIST"
      ]
    },
    {
      "cell_type": "code",
      "metadata": {
        "id": "EKMc5WUbfMKL"
      },
      "source": [
        "import numpy as np "
      ],
      "execution_count": null,
      "outputs": []
    },
    {
      "cell_type": "code",
      "metadata": {
        "colab": {
          "base_uri": "https://localhost:8080/"
        },
        "id": "-6uVtXT6eShu",
        "outputId": "603559ae-1a2a-4f48-b115-d93f361dd7ae"
      },
      "source": [
        "np.array([1, 4, 2, 5, 3]) "
      ],
      "execution_count": null,
      "outputs": [
        {
          "output_type": "execute_result",
          "data": {
            "text/plain": [
              "array([1, 4, 2, 5, 3])"
            ]
          },
          "metadata": {},
          "execution_count": 7
        }
      ]
    },
    {
      "cell_type": "markdown",
      "metadata": {
        "id": "htCSiAd-fcBY"
      },
      "source": [
        "First, we can use np.array to create arrays from Python lists: \n",
        "\n",
        "Remember that unlike Python lists, NumPy is constrained to arrays that all contain the same type. If types do not match, NumPy will upcast if possible (here, integers are upcast to floating point): In[9]: np.array([3.14, 4, 2, 3]) Out[9]: array([ 3.14,  4.  ,  2.  ,  3.  ]) If we want to explicitly set the data type of the resulting array, we can use the dtype keyword: \n"
      ]
    },
    {
      "cell_type": "code",
      "metadata": {
        "colab": {
          "base_uri": "https://localhost:8080/"
        },
        "id": "t2j2sRhsfejt",
        "outputId": "04a04402-0496-4cc9-ba09-e8e817883c95"
      },
      "source": [
        "np.array([1, 2, 3, 4], dtype='float32') "
      ],
      "execution_count": null,
      "outputs": [
        {
          "output_type": "execute_result",
          "data": {
            "text/plain": [
              "array([1., 2., 3., 4.], dtype=float32)"
            ]
          },
          "metadata": {},
          "execution_count": 8
        }
      ]
    },
    {
      "cell_type": "markdown",
      "metadata": {
        "id": "HhB-tqh6gKCc"
      },
      "source": [
        "Finally, unlike Python lists, NumPy arrays can explicitly be multidimensional; here’s one way of initializing a multidimensional array using a list of lists: "
      ]
    },
    {
      "cell_type": "code",
      "metadata": {
        "colab": {
          "base_uri": "https://localhost:8080/"
        },
        "id": "LKR7GL-ygLdm",
        "outputId": "adf760e7-a1ff-43ca-ddba-030507c87d57"
      },
      "source": [
        " #nested lists result in multidimensional arrays\n",
        " np.array([range(i, i + 3) for i in [2, 4, 6]]) "
      ],
      "execution_count": null,
      "outputs": [
        {
          "output_type": "execute_result",
          "data": {
            "text/plain": [
              "array([[2, 3, 4],\n",
              "       [4, 5, 6],\n",
              "       [6, 7, 8]])"
            ]
          },
          "metadata": {},
          "execution_count": 9
        }
      ]
    },
    {
      "cell_type": "markdown",
      "metadata": {
        "id": "cAVkqz2ThKM6"
      },
      "source": [
        "# CREATING ARRAYS FROM SCRATCH"
      ]
    },
    {
      "cell_type": "markdown",
      "metadata": {
        "id": "rpsQVBGLhiaW"
      },
      "source": [
        "Especially for larger arrays, it is more efficient to create arrays from scratch using rou‐ tines built into NumPy. Here are several examples: "
      ]
    },
    {
      "cell_type": "code",
      "metadata": {
        "colab": {
          "base_uri": "https://localhost:8080/"
        },
        "id": "BA4beN0Bhcqc",
        "outputId": "94a95dbb-9aa7-40c0-f3ec-bfd55fcf1c80"
      },
      "source": [
        "# Create a length-10 integer array filled with zeros\n",
        "np.zeros(10, dtype=int)"
      ],
      "execution_count": null,
      "outputs": [
        {
          "output_type": "execute_result",
          "data": {
            "text/plain": [
              "array([0, 0, 0, 0, 0, 0, 0, 0, 0, 0])"
            ]
          },
          "metadata": {},
          "execution_count": 10
        }
      ]
    },
    {
      "cell_type": "code",
      "metadata": {
        "colab": {
          "base_uri": "https://localhost:8080/"
        },
        "id": "hS8_haXYho-_",
        "outputId": "e6e2c805-a0f3-44fb-e47b-143b70fb28c5"
      },
      "source": [
        " # Create a 3x5 floating-point array filled with 1's\n",
        " np.ones((3, 5), dtype=float) "
      ],
      "execution_count": null,
      "outputs": [
        {
          "output_type": "execute_result",
          "data": {
            "text/plain": [
              "array([[1., 1., 1., 1., 1.],\n",
              "       [1., 1., 1., 1., 1.],\n",
              "       [1., 1., 1., 1., 1.]])"
            ]
          },
          "metadata": {},
          "execution_count": 11
        }
      ]
    },
    {
      "cell_type": "code",
      "metadata": {
        "colab": {
          "base_uri": "https://localhost:8080/"
        },
        "id": "pTXWmJ1-hzgo",
        "outputId": "39d6ce94-2898-482b-839c-81fd21924522"
      },
      "source": [
        " # Create a 3x5 array filled with 3.14\n",
        " np.full((3, 5), 3.14) "
      ],
      "execution_count": null,
      "outputs": [
        {
          "output_type": "execute_result",
          "data": {
            "text/plain": [
              "array([[3.14, 3.14, 3.14, 3.14, 3.14],\n",
              "       [3.14, 3.14, 3.14, 3.14, 3.14],\n",
              "       [3.14, 3.14, 3.14, 3.14, 3.14]])"
            ]
          },
          "metadata": {},
          "execution_count": 12
        }
      ]
    },
    {
      "cell_type": "code",
      "metadata": {
        "colab": {
          "base_uri": "https://localhost:8080/"
        },
        "id": "HLUFYwJBh5f2",
        "outputId": "36e3dcde-f6a7-49e5-ba3b-61fbb4a678a3"
      },
      "source": [
        "# Create an array filled with a linear sequence\n",
        "# Starting at 0, ending at 20, stepping by 2\n",
        "# (this is similar to the built-in range() function)\n",
        "np.arange(0, 20, 2) "
      ],
      "execution_count": null,
      "outputs": [
        {
          "output_type": "execute_result",
          "data": {
            "text/plain": [
              "array([ 0,  2,  4,  6,  8, 10, 12, 14, 16, 18])"
            ]
          },
          "metadata": {},
          "execution_count": 13
        }
      ]
    },
    {
      "cell_type": "code",
      "metadata": {
        "colab": {
          "base_uri": "https://localhost:8080/"
        },
        "id": "EFyBPJn6iFCM",
        "outputId": "b77f203f-028b-49f9-f6ec-357a152a2ac2"
      },
      "source": [
        " # Create an array of five values evenly spaced between 0 and 1\n",
        " np.linspace(0, 1, 5) "
      ],
      "execution_count": null,
      "outputs": [
        {
          "output_type": "execute_result",
          "data": {
            "text/plain": [
              "array([0.  , 0.25, 0.5 , 0.75, 1.  ])"
            ]
          },
          "metadata": {},
          "execution_count": 14
        }
      ]
    },
    {
      "cell_type": "code",
      "metadata": {
        "colab": {
          "base_uri": "https://localhost:8080/"
        },
        "id": "xVPWvkixiSRc",
        "outputId": "45523828-825e-40ab-a524-0c5dd8607dbe"
      },
      "source": [
        "# Create a 3x3 array of uniformly distributed\n",
        "# random values between 0 and 1\n",
        "np.random.random((3, 3)) "
      ],
      "execution_count": null,
      "outputs": [
        {
          "output_type": "execute_result",
          "data": {
            "text/plain": [
              "array([[0.83006796, 0.10307214, 0.35491037],\n",
              "       [0.85657268, 0.75302531, 0.18588834],\n",
              "       [0.4136854 , 0.48572466, 0.4994994 ]])"
            ]
          },
          "metadata": {},
          "execution_count": 15
        }
      ]
    },
    {
      "cell_type": "code",
      "metadata": {
        "colab": {
          "base_uri": "https://localhost:8080/"
        },
        "id": "iiY46KbfiW5e",
        "outputId": "4cc9c8ce-f61e-48cb-fb13-75351fed9f10"
      },
      "source": [
        " # Create a 3x3 array of normally distributed random values\n",
        " # with mean 0 and standard deviation 1\n",
        " np.random.normal(0, 1, (3, 3)) "
      ],
      "execution_count": null,
      "outputs": [
        {
          "output_type": "execute_result",
          "data": {
            "text/plain": [
              "array([[ 1.18686153e+00, -1.63161681e+00,  8.34514464e-01],\n",
              "       [-1.12880018e-01,  6.02276598e-01,  1.64863722e+00],\n",
              "       [-2.11898358e+00,  1.30231828e-03,  3.47256181e-01]])"
            ]
          },
          "metadata": {},
          "execution_count": 16
        }
      ]
    },
    {
      "cell_type": "code",
      "metadata": {
        "colab": {
          "base_uri": "https://localhost:8080/"
        },
        "id": "DPzKDDO_iiro",
        "outputId": "b7448480-608b-4ea2-8fae-5bc7d97c990d"
      },
      "source": [
        "# Create a 3x3 array of random integers in the interval [0, 10)\n",
        "np.random.randint(0, 10, (3, 3)) "
      ],
      "execution_count": null,
      "outputs": [
        {
          "output_type": "execute_result",
          "data": {
            "text/plain": [
              "array([[5, 1, 8],\n",
              "       [5, 5, 3],\n",
              "       [2, 4, 5]])"
            ]
          },
          "metadata": {},
          "execution_count": 17
        }
      ]
    },
    {
      "cell_type": "code",
      "metadata": {
        "colab": {
          "base_uri": "https://localhost:8080/"
        },
        "id": "1XFsRVPViwoc",
        "outputId": "9e7e9f36-164a-4d10-e3d5-5737c0dad28a"
      },
      "source": [
        "# Create a 3x3 identity matrix\n",
        "np.eye(3)"
      ],
      "execution_count": null,
      "outputs": [
        {
          "output_type": "execute_result",
          "data": {
            "text/plain": [
              "array([[1., 0., 0.],\n",
              "       [0., 1., 0.],\n",
              "       [0., 0., 1.]])"
            ]
          },
          "metadata": {},
          "execution_count": 18
        }
      ]
    },
    {
      "cell_type": "code",
      "metadata": {
        "colab": {
          "base_uri": "https://localhost:8080/"
        },
        "id": "3C6O_ERki5sb",
        "outputId": "c8b01485-18db-4642-f7f1-5b2b40a353f7"
      },
      "source": [
        "# Create an uninitialized array of three integers\n",
        "# The values will be whatever happens to already exist at that\n",
        "# memory location\n",
        "np.empty(3) "
      ],
      "execution_count": null,
      "outputs": [
        {
          "output_type": "execute_result",
          "data": {
            "text/plain": [
              "array([1., 1., 1.])"
            ]
          },
          "metadata": {},
          "execution_count": 19
        }
      ]
    },
    {
      "cell_type": "markdown",
      "metadata": {
        "id": "pxrZmIKYmwjK"
      },
      "source": [
        "# The Basics of NumPy Arrays"
      ]
    },
    {
      "cell_type": "markdown",
      "metadata": {
        "id": "ZxBY0McenANN"
      },
      "source": [
        "We’ll cover a few categories of basic array manipulations here: \n",
        " \n",
        "\n",
        "1. Attributes of arrays Determining the size, shape, memorY consumption, and data types of arrays\n",
        "2.  Indexing of arrays Getting and setting the value of individual array elements \n",
        "\n",
        "\n",
        " \n",
        "3.  Slicing of arrays Getting and setting smaller subarrays within a larger array\n",
        "\n",
        "4. Reshaping of arrays Changing the shape of a given array \n",
        "\n",
        "5.   Joining and splitting of arrays Combining multiple arrays into one, and splitting one array into many  \n",
        " \n",
        "\n",
        "\n"
      ]
    },
    {
      "cell_type": "markdown",
      "metadata": {
        "id": "00aHOAdMn1jQ"
      },
      "source": [
        "**NumPy Array Attributes**"
      ]
    },
    {
      "cell_type": "code",
      "metadata": {
        "id": "WwbZHoJ-m3dh"
      },
      "source": [
        "import numpy as np\n",
        "np.random.seed(0)  # seed for reproducibility\n",
        "\n",
        "x1 = np.random.randint(10, size=6)  # One-dimensional array\n",
        "x2 = np.random.randint(10, size=(3, 4))  # Two-dimensional array\n",
        "x3 = np.random.randint(10, size=(3, 4, 5))  # Three-dimensional array "
      ],
      "execution_count": null,
      "outputs": []
    },
    {
      "cell_type": "markdown",
      "metadata": {
        "id": "7lhGmi1CofJv"
      },
      "source": [
        "Each array has attributes ndim  (the number of dimensions), shape  (the size of each dimension), and size (the total size of the array): "
      ]
    },
    {
      "cell_type": "code",
      "metadata": {
        "colab": {
          "base_uri": "https://localhost:8080/"
        },
        "id": "BveJekV1ocif",
        "outputId": "c03cca4d-5a8b-493c-c7d4-cb9dfb0adfa5"
      },
      "source": [
        "print(\"x3 ndim: \", x3.ndim)\n",
        "print(\"x3 shape:\", x3.shape)\n",
        "print(\"x3 size: \", x3.size) "
      ],
      "execution_count": null,
      "outputs": [
        {
          "output_type": "stream",
          "name": "stdout",
          "text": [
            "x3 ndim:  3\n",
            "x3 shape: (3, 4, 5)\n",
            "x3 size:  60\n"
          ]
        }
      ]
    },
    {
      "cell_type": "code",
      "metadata": {
        "colab": {
          "base_uri": "https://localhost:8080/"
        },
        "id": "A6GxayweoaoG",
        "outputId": "96c2884a-57c3-45ea-8872-04ba3013a555"
      },
      "source": [
        " print(\"dtype:\", x3.dtype) "
      ],
      "execution_count": null,
      "outputs": [
        {
          "output_type": "stream",
          "name": "stdout",
          "text": [
            "dtype: int64\n"
          ]
        }
      ]
    },
    {
      "cell_type": "markdown",
      "metadata": {
        "id": "qIMmBkcao84a"
      },
      "source": [
        "Other attributes include itemsize, which lists the size (in bytes) of each array ele‐ ment, and nbytes, which lists the total size (in bytes) of the array: "
      ]
    },
    {
      "cell_type": "code",
      "metadata": {
        "colab": {
          "base_uri": "https://localhost:8080/"
        },
        "id": "zu0i8w9jo52r",
        "outputId": "2681cf83-9706-4a41-9210-b352789303cc"
      },
      "source": [
        "print(\"itemsize:\", x3.itemsize, \"bytes\")\n",
        "print(\"nbytes:\", x3.nbytes, \"bytes\") "
      ],
      "execution_count": null,
      "outputs": [
        {
          "output_type": "stream",
          "name": "stdout",
          "text": [
            "itemsize: 8 bytes\n",
            "nbytes: 480 bytes\n"
          ]
        }
      ]
    },
    {
      "cell_type": "markdown",
      "metadata": {
        "id": "Ww56drxDpijt"
      },
      "source": [
        "**Array Indexing: Accessing Single Elements**"
      ]
    },
    {
      "cell_type": "code",
      "metadata": {
        "colab": {
          "base_uri": "https://localhost:8080/"
        },
        "id": "QNmHgL65pnWJ",
        "outputId": "dd5fdae4-6046-4f55-f7c4-5503c8d44b6b"
      },
      "source": [
        "x1 "
      ],
      "execution_count": null,
      "outputs": [
        {
          "output_type": "execute_result",
          "data": {
            "text/plain": [
              "array([5, 0, 3, 3, 7, 9])"
            ]
          },
          "metadata": {},
          "execution_count": 24
        }
      ]
    },
    {
      "cell_type": "code",
      "metadata": {
        "colab": {
          "base_uri": "https://localhost:8080/"
        },
        "id": "GhgpSd7Op9wq",
        "outputId": "70638314-6b39-4f40-fe11-89d722ca820f"
      },
      "source": [
        "x1[0]"
      ],
      "execution_count": null,
      "outputs": [
        {
          "output_type": "execute_result",
          "data": {
            "text/plain": [
              "5"
            ]
          },
          "metadata": {},
          "execution_count": 25
        }
      ]
    },
    {
      "cell_type": "code",
      "metadata": {
        "colab": {
          "base_uri": "https://localhost:8080/"
        },
        "id": "FDFhQCzZqFOV",
        "outputId": "0134fa72-f1e1-4c97-e274-8997035559a0"
      },
      "source": [
        "x1[4] "
      ],
      "execution_count": null,
      "outputs": [
        {
          "output_type": "execute_result",
          "data": {
            "text/plain": [
              "7"
            ]
          },
          "metadata": {},
          "execution_count": 26
        }
      ]
    },
    {
      "cell_type": "code",
      "metadata": {
        "colab": {
          "base_uri": "https://localhost:8080/"
        },
        "id": "fkmLO64dqP5W",
        "outputId": "7e5b9ec2-56de-473c-b98f-1682b2102334"
      },
      "source": [
        "x1[-1] "
      ],
      "execution_count": null,
      "outputs": [
        {
          "output_type": "execute_result",
          "data": {
            "text/plain": [
              "9"
            ]
          },
          "metadata": {},
          "execution_count": 27
        }
      ]
    },
    {
      "cell_type": "code",
      "metadata": {
        "colab": {
          "base_uri": "https://localhost:8080/"
        },
        "id": "keVd7hh5qXHO",
        "outputId": "05ec1d91-777d-4e1a-a596-01e75eaadefe"
      },
      "source": [
        "x1[-2] "
      ],
      "execution_count": null,
      "outputs": [
        {
          "output_type": "execute_result",
          "data": {
            "text/plain": [
              "7"
            ]
          },
          "metadata": {},
          "execution_count": 28
        }
      ]
    },
    {
      "cell_type": "code",
      "metadata": {
        "colab": {
          "base_uri": "https://localhost:8080/"
        },
        "id": "fBRNEGgkqdvE",
        "outputId": "0a80a5a0-081b-4ab2-e5ac-9027c234311b"
      },
      "source": [
        "x2"
      ],
      "execution_count": null,
      "outputs": [
        {
          "output_type": "execute_result",
          "data": {
            "text/plain": [
              "array([[3, 5, 2, 4],\n",
              "       [7, 6, 8, 8],\n",
              "       [1, 6, 7, 7]])"
            ]
          },
          "metadata": {},
          "execution_count": 29
        }
      ]
    },
    {
      "cell_type": "code",
      "metadata": {
        "colab": {
          "base_uri": "https://localhost:8080/"
        },
        "id": "TSoD600QqmqL",
        "outputId": "e3b6aa43-0967-43d9-82e1-9edd609676c6"
      },
      "source": [
        "x2[0, 0] "
      ],
      "execution_count": null,
      "outputs": [
        {
          "output_type": "execute_result",
          "data": {
            "text/plain": [
              "3"
            ]
          },
          "metadata": {},
          "execution_count": 30
        }
      ]
    },
    {
      "cell_type": "code",
      "metadata": {
        "colab": {
          "base_uri": "https://localhost:8080/"
        },
        "id": "Ov1284S7qxpu",
        "outputId": "9c24b42a-3c74-4eff-9c01-24965dd47eb7"
      },
      "source": [
        "x2[0, 0] "
      ],
      "execution_count": null,
      "outputs": [
        {
          "output_type": "execute_result",
          "data": {
            "text/plain": [
              "3"
            ]
          },
          "metadata": {},
          "execution_count": 31
        }
      ]
    },
    {
      "cell_type": "code",
      "metadata": {
        "colab": {
          "base_uri": "https://localhost:8080/"
        },
        "id": "WCRlaNSYq042",
        "outputId": "5d7f991a-6026-4f77-c017-87ee24f88026"
      },
      "source": [
        "x2[2, -1] "
      ],
      "execution_count": null,
      "outputs": [
        {
          "output_type": "execute_result",
          "data": {
            "text/plain": [
              "7"
            ]
          },
          "metadata": {},
          "execution_count": 32
        }
      ]
    },
    {
      "cell_type": "code",
      "metadata": {
        "colab": {
          "base_uri": "https://localhost:8080/"
        },
        "id": "f00l8VbOq6gZ",
        "outputId": "73a9bdef-bb58-41f5-fb43-9f8fba49e35b"
      },
      "source": [
        "x2[0, 0] = 12\n",
        "x2 "
      ],
      "execution_count": null,
      "outputs": [
        {
          "output_type": "execute_result",
          "data": {
            "text/plain": [
              "array([[12,  5,  2,  4],\n",
              "       [ 7,  6,  8,  8],\n",
              "       [ 1,  6,  7,  7]])"
            ]
          },
          "metadata": {},
          "execution_count": 33
        }
      ]
    },
    {
      "cell_type": "code",
      "metadata": {
        "colab": {
          "base_uri": "https://localhost:8080/"
        },
        "id": "eUebLNp2rDw8",
        "outputId": "9e167631-b5c6-49a4-a2fa-90a21cb7f568"
      },
      "source": [
        "In[15]: x1[0] = 3.14159  # this will be truncated!\n",
        "x1 "
      ],
      "execution_count": null,
      "outputs": [
        {
          "output_type": "execute_result",
          "data": {
            "text/plain": [
              "array([5, 0, 3, 3, 7, 9])"
            ]
          },
          "metadata": {},
          "execution_count": 34
        }
      ]
    },
    {
      "cell_type": "markdown",
      "metadata": {
        "id": "1_WD7b4TrLEM"
      },
      "source": [
        "Keep in mind that, unlike Python lists, NumPy arrays have a fixed type. This means, for example, that if you attempt to insert a floating-point value to an integer array, the value will be silently truncated. Don’t be caught unaware by this behavior! "
      ]
    },
    {
      "cell_type": "markdown",
      "metadata": {
        "id": "5XlsljENrTPp"
      },
      "source": [
        "**Array Slicing: Accessing Subarrays** "
      ]
    },
    {
      "cell_type": "markdown",
      "metadata": {
        "id": "M-0itFhIri8s"
      },
      "source": [
        "Just as we can use square brackets to access individual array elements, we can also use them to access subarrays with the slice  notation, marked by the colon (:) character. The NumPy slicing syntax follows that of the standard Python list; to access a slice of an array x, use this:\n",
        " \n",
        " x[start:stop:step]\n",
        " \n",
        "  If any of these are unspecified, they default to the values start=0, stop=size of dimension, step=1. We’ll take a look at accessing subarrays in one dimension and in multiple dimensions. \n",
        "  \n",
        "  **One-dimensional subarrays** "
      ]
    },
    {
      "cell_type": "code",
      "metadata": {
        "colab": {
          "base_uri": "https://localhost:8080/"
        },
        "id": "Zpis6G8Arhdn",
        "outputId": "09f46530-56af-4a36-be55-c6b922eb7c20"
      },
      "source": [
        "x = np.arange(10)\n",
        "x "
      ],
      "execution_count": null,
      "outputs": [
        {
          "output_type": "execute_result",
          "data": {
            "text/plain": [
              "array([0, 1, 2, 3, 4, 5, 6, 7, 8, 9])"
            ]
          },
          "metadata": {},
          "execution_count": 35
        }
      ]
    },
    {
      "cell_type": "code",
      "metadata": {
        "colab": {
          "base_uri": "https://localhost:8080/"
        },
        "id": "ikh35ATmxikm",
        "outputId": "72a9c99b-1ae1-43a1-c298-10d21d500f42"
      },
      "source": [
        "x[:5]  # first five elements "
      ],
      "execution_count": null,
      "outputs": [
        {
          "output_type": "execute_result",
          "data": {
            "text/plain": [
              "array([0, 1, 2, 3, 4])"
            ]
          },
          "metadata": {},
          "execution_count": 36
        }
      ]
    },
    {
      "cell_type": "code",
      "metadata": {
        "colab": {
          "base_uri": "https://localhost:8080/"
        },
        "id": "9KKNLgOyxuWX",
        "outputId": "4678afea-f953-4a00-e730-44bf696c1961"
      },
      "source": [
        "x[4:7]  # middle subarray "
      ],
      "execution_count": null,
      "outputs": [
        {
          "output_type": "execute_result",
          "data": {
            "text/plain": [
              "array([4, 5, 6])"
            ]
          },
          "metadata": {},
          "execution_count": 37
        }
      ]
    },
    {
      "cell_type": "code",
      "metadata": {
        "colab": {
          "base_uri": "https://localhost:8080/"
        },
        "id": "-atKiy6HyAzO",
        "outputId": "3fcf83f5-50ad-457d-8610-522b3e4463ca"
      },
      "source": [
        "x[::2]  # every other element "
      ],
      "execution_count": null,
      "outputs": [
        {
          "output_type": "execute_result",
          "data": {
            "text/plain": [
              "array([0, 2, 4, 6, 8])"
            ]
          },
          "metadata": {},
          "execution_count": 38
        }
      ]
    },
    {
      "cell_type": "code",
      "metadata": {
        "colab": {
          "base_uri": "https://localhost:8080/"
        },
        "id": "9Ft5W3_pyDO1",
        "outputId": "bcaff111-8222-4878-edb8-e0b34d01fa0a"
      },
      "source": [
        "x[1::2]  # every other element, starting at index 1 "
      ],
      "execution_count": null,
      "outputs": [
        {
          "output_type": "execute_result",
          "data": {
            "text/plain": [
              "array([1, 3, 5, 7, 9])"
            ]
          },
          "metadata": {},
          "execution_count": 39
        }
      ]
    },
    {
      "cell_type": "markdown",
      "metadata": {
        "id": "LnofMDhJyLMX"
      },
      "source": [
        "A potentially confusing case is when the step  value is negative. In this case, the defaults for start  and stop  are swapped. This becomes a convenient way to reverse an array: \n",
        "\n"
      ]
    },
    {
      "cell_type": "code",
      "metadata": {
        "colab": {
          "base_uri": "https://localhost:8080/"
        },
        "id": "PHxwqt6IyPew",
        "outputId": "641c3ddb-cc92-427b-ba1f-9530a9a2df1b"
      },
      "source": [
        "x[::-1]  # all elements, reversed "
      ],
      "execution_count": null,
      "outputs": [
        {
          "output_type": "execute_result",
          "data": {
            "text/plain": [
              "array([9, 8, 7, 6, 5, 4, 3, 2, 1, 0])"
            ]
          },
          "metadata": {},
          "execution_count": 40
        }
      ]
    },
    {
      "cell_type": "code",
      "metadata": {
        "colab": {
          "base_uri": "https://localhost:8080/"
        },
        "id": "Xn_lftD4yUZX",
        "outputId": "417da647-453e-4e97-e5e3-aa4aaa9b5f37"
      },
      "source": [
        "x[5::-2]  # reversed every other from index 5 "
      ],
      "execution_count": null,
      "outputs": [
        {
          "output_type": "execute_result",
          "data": {
            "text/plain": [
              "array([5, 3, 1])"
            ]
          },
          "metadata": {},
          "execution_count": 41
        }
      ]
    },
    {
      "cell_type": "markdown",
      "metadata": {
        "id": "I17JhVb_yeNV"
      },
      "source": [
        "**Multidimensional subarrays**\n",
        "\n",
        " Multidimensional slices work in the same way, with multiple slices separated by com‐ mas. For example: "
      ]
    },
    {
      "cell_type": "code",
      "metadata": {
        "colab": {
          "base_uri": "https://localhost:8080/"
        },
        "id": "uIaqaN2fybpr",
        "outputId": "bf184e65-7122-4b1b-ca74-6fc51ea76ab6"
      },
      "source": [
        "x2 "
      ],
      "execution_count": null,
      "outputs": [
        {
          "output_type": "execute_result",
          "data": {
            "text/plain": [
              "array([[12,  5,  2,  4],\n",
              "       [ 7,  6,  8,  8],\n",
              "       [ 1,  6,  7,  7]])"
            ]
          },
          "metadata": {},
          "execution_count": 42
        }
      ]
    },
    {
      "cell_type": "code",
      "metadata": {
        "colab": {
          "base_uri": "https://localhost:8080/"
        },
        "id": "4sTCEaDDywin",
        "outputId": "6d27e74d-3318-40b4-d6bd-3c22b8e5f241"
      },
      "source": [
        "x2[:2, :3]  # two rows, three columns "
      ],
      "execution_count": null,
      "outputs": [
        {
          "output_type": "execute_result",
          "data": {
            "text/plain": [
              "array([[12,  5,  2],\n",
              "       [ 7,  6,  8]])"
            ]
          },
          "metadata": {},
          "execution_count": 43
        }
      ]
    },
    {
      "cell_type": "code",
      "metadata": {
        "colab": {
          "base_uri": "https://localhost:8080/"
        },
        "id": "hhVx5Mkbywnq",
        "outputId": "ed7e722e-b112-4e25-a07f-b4c0914157f1"
      },
      "source": [
        "x2[:3, ::2]  # all rows, every other column "
      ],
      "execution_count": null,
      "outputs": [
        {
          "output_type": "execute_result",
          "data": {
            "text/plain": [
              "array([[12,  2],\n",
              "       [ 7,  8],\n",
              "       [ 1,  7]])"
            ]
          },
          "metadata": {},
          "execution_count": 44
        }
      ]
    },
    {
      "cell_type": "markdown",
      "metadata": {
        "id": "5a8oFJbWzFlO"
      },
      "source": [
        "Finally, subarray dimensions can even be reversed together: "
      ]
    },
    {
      "cell_type": "code",
      "metadata": {
        "colab": {
          "base_uri": "https://localhost:8080/"
        },
        "id": "pU7tOuRHzHE9",
        "outputId": "769b3ff9-e01b-4dfd-b6f0-564c78487749"
      },
      "source": [
        "x2[::-1, ::-1] "
      ],
      "execution_count": null,
      "outputs": [
        {
          "output_type": "execute_result",
          "data": {
            "text/plain": [
              "array([[ 7,  7,  6,  1],\n",
              "       [ 8,  8,  6,  7],\n",
              "       [ 4,  2,  5, 12]])"
            ]
          },
          "metadata": {},
          "execution_count": 45
        }
      ]
    },
    {
      "cell_type": "markdown",
      "metadata": {
        "id": "ptbURZQnzMQs"
      },
      "source": [
        "Accessing array rows and columns.     One commonly needed routine is accessing single rows or columns of an array. You can do this by combining indexing and slicing, using an empty slice marked by a single colon (:): "
      ]
    },
    {
      "cell_type": "code",
      "metadata": {
        "colab": {
          "base_uri": "https://localhost:8080/"
        },
        "id": "T-cr2R_BzR20",
        "outputId": "2ae6b78b-c127-4f9b-e48f-37e80aba3e55"
      },
      "source": [
        "print(x2[:, 0])  # first column of x2 "
      ],
      "execution_count": null,
      "outputs": [
        {
          "output_type": "stream",
          "name": "stdout",
          "text": [
            "[12  7  1]\n"
          ]
        }
      ]
    },
    {
      "cell_type": "code",
      "metadata": {
        "colab": {
          "base_uri": "https://localhost:8080/"
        },
        "id": "iybzn64OzXbo",
        "outputId": "6f65dd9d-45ad-431a-ddd2-56ea6ce6f1ff"
      },
      "source": [
        "print(x2[0, :])  # first row of x2 "
      ],
      "execution_count": null,
      "outputs": [
        {
          "output_type": "stream",
          "name": "stdout",
          "text": [
            "[12  5  2  4]\n"
          ]
        }
      ]
    },
    {
      "cell_type": "code",
      "metadata": {
        "colab": {
          "base_uri": "https://localhost:8080/"
        },
        "id": "v6jF0osjzZ_7",
        "outputId": "98807bfa-47a2-4568-a597-3b4b9a0e445f"
      },
      "source": [
        "print(x2[0])  # equivalent to x2[0, :] "
      ],
      "execution_count": null,
      "outputs": [
        {
          "output_type": "stream",
          "name": "stdout",
          "text": [
            "[12  5  2  4]\n"
          ]
        }
      ]
    },
    {
      "cell_type": "markdown",
      "metadata": {
        "id": "y9ZssUJ7ziPv"
      },
      "source": [
        "**Subarrays as no-copy views**\n",
        "\n",
        " One important—and extremely useful—thing to know about array slices is that they return views  rather than copies  of the array data. This is one area in which NumPy array slicing differs from Python list slicing: in lists, slices will be copies. Consider our two-dimensional array from before: "
      ]
    },
    {
      "cell_type": "code",
      "metadata": {
        "colab": {
          "base_uri": "https://localhost:8080/"
        },
        "id": "uWQjgt6gzq-5",
        "outputId": "a7558471-6bf2-4c1d-e23f-6882ec31aea9"
      },
      "source": [
        "print(x2) "
      ],
      "execution_count": null,
      "outputs": [
        {
          "output_type": "stream",
          "name": "stdout",
          "text": [
            "[[12  5  2  4]\n",
            " [ 7  6  8  8]\n",
            " [ 1  6  7  7]]\n"
          ]
        }
      ]
    },
    {
      "cell_type": "code",
      "metadata": {
        "colab": {
          "base_uri": "https://localhost:8080/"
        },
        "id": "AhgUvJxQz2K_",
        "outputId": "def6ac5f-bd95-44fc-92dd-d3b3afe47950"
      },
      "source": [
        "x2_sub = x2[:2, :2]\n",
        "print(x2_sub) "
      ],
      "execution_count": null,
      "outputs": [
        {
          "output_type": "stream",
          "name": "stdout",
          "text": [
            "[[12  5]\n",
            " [ 7  6]]\n"
          ]
        }
      ]
    },
    {
      "cell_type": "markdown",
      "metadata": {
        "id": "VeUAmTKVz9kA"
      },
      "source": [
        "Now if we modify this subarray, we’ll see that the original array is changed! Observe: I"
      ]
    },
    {
      "cell_type": "code",
      "metadata": {
        "colab": {
          "base_uri": "https://localhost:8080/"
        },
        "id": "W25o0Bl7z-yB",
        "outputId": "2d71b47e-b1f3-48c2-c4a3-b912c65d2959"
      },
      "source": [
        "x2_sub[0, 0] = 99\n",
        "print(x2_sub)"
      ],
      "execution_count": null,
      "outputs": [
        {
          "output_type": "stream",
          "name": "stdout",
          "text": [
            "[[99  5]\n",
            " [ 7  6]]\n"
          ]
        }
      ]
    },
    {
      "cell_type": "code",
      "metadata": {
        "colab": {
          "base_uri": "https://localhost:8080/"
        },
        "id": "f2U8Vt9k0I5r",
        "outputId": "db1944cf-e523-4cfc-cc9f-3255aa5d0ce9"
      },
      "source": [
        "print(x2) "
      ],
      "execution_count": null,
      "outputs": [
        {
          "output_type": "stream",
          "name": "stdout",
          "text": [
            "[[99  5  2  4]\n",
            " [ 7  6  8  8]\n",
            " [ 1  6  7  7]]\n"
          ]
        }
      ]
    },
    {
      "cell_type": "markdown",
      "metadata": {
        "id": "E5A0PUYI0S5o"
      },
      "source": [
        "This default behavior is actually quite useful: it means that when we work with large datasets, we can access and process pieces of these datasets without the need to copy the underlying data buffer. Creating copies of arrays Despite the nice features of array views, it is sometimes useful to instead explicitly copy the data within an array or a subarray. This can be most easily done with the copy() method: "
      ]
    },
    {
      "cell_type": "code",
      "metadata": {
        "colab": {
          "base_uri": "https://localhost:8080/"
        },
        "id": "6iMAt8e10Xdo",
        "outputId": "f62a86be-c364-470b-a828-d6b0f8010621"
      },
      "source": [
        "x2_sub_copy = x2[:2, :2].copy()\n",
        "print(x2_sub_copy) "
      ],
      "execution_count": null,
      "outputs": [
        {
          "output_type": "stream",
          "name": "stdout",
          "text": [
            "[[99  5]\n",
            " [ 7  6]]\n"
          ]
        }
      ]
    },
    {
      "cell_type": "code",
      "metadata": {
        "colab": {
          "base_uri": "https://localhost:8080/"
        },
        "id": "wRB7RBh80eaT",
        "outputId": "cf90d883-d2d5-4dc9-be63-f81519fb9d16"
      },
      "source": [
        "x2_sub_copy[0, 0] = 42\n",
        "print(x2_sub_copy) "
      ],
      "execution_count": null,
      "outputs": [
        {
          "output_type": "stream",
          "name": "stdout",
          "text": [
            "[[42  5]\n",
            " [ 7  6]]\n"
          ]
        }
      ]
    },
    {
      "cell_type": "markdown",
      "metadata": {
        "id": "ghpsMhTF0mnk"
      },
      "source": [
        "**Reshaping of Arrays**\n",
        "\n",
        "\n",
        " Another useful type of operation is reshaping of arrays. The most flexible way of doing this is with the reshape()  method. For example, if you want to put the num‐ bers 1 through 9 in a 3×3 grid, you can do the following: "
      ]
    },
    {
      "cell_type": "code",
      "metadata": {
        "colab": {
          "base_uri": "https://localhost:8080/"
        },
        "id": "pAwrjUf30v2f",
        "outputId": "0c41079c-67c9-4a17-9d21-0f03358f7572"
      },
      "source": [
        "grid = np.arange(1, 10).reshape((3, 3))\n",
        "print(grid) "
      ],
      "execution_count": null,
      "outputs": [
        {
          "output_type": "stream",
          "name": "stdout",
          "text": [
            "[[1 2 3]\n",
            " [4 5 6]\n",
            " [7 8 9]]\n"
          ]
        }
      ]
    },
    {
      "cell_type": "code",
      "metadata": {
        "id": "tfA2YncerJv1"
      },
      "source": [
        "x = np.array([1, 2, 3])"
      ],
      "execution_count": null,
      "outputs": []
    },
    {
      "cell_type": "code",
      "metadata": {
        "colab": {
          "base_uri": "https://localhost:8080/"
        },
        "id": "hlBBlQA7r0pT",
        "outputId": "0de86e30-0d94-4dcb-f9d5-0e1b6703d0af"
      },
      "source": [
        "x.reshape((1, 3))  "
      ],
      "execution_count": null,
      "outputs": [
        {
          "output_type": "execute_result",
          "data": {
            "text/plain": [
              "array([[1, 2, 3]])"
            ]
          },
          "metadata": {},
          "execution_count": 59
        }
      ]
    },
    {
      "cell_type": "code",
      "metadata": {
        "colab": {
          "base_uri": "https://localhost:8080/"
        },
        "id": "8x0hb6UjsHxj",
        "outputId": "8e4d5be7-5c02-4a72-830a-475cacfecbef"
      },
      "source": [
        "x[np.newaxis, :]"
      ],
      "execution_count": null,
      "outputs": [
        {
          "output_type": "execute_result",
          "data": {
            "text/plain": [
              "array([[1, 2, 3]])"
            ]
          },
          "metadata": {},
          "execution_count": 60
        }
      ]
    },
    {
      "cell_type": "code",
      "metadata": {
        "colab": {
          "base_uri": "https://localhost:8080/"
        },
        "id": "bcZlRUsYsJRb",
        "outputId": "d9e0f20f-3d6a-473b-aa42-82dbb0dd6854"
      },
      "source": [
        "# column vector via reshape\n",
        "x.reshape((3, 1)) "
      ],
      "execution_count": null,
      "outputs": [
        {
          "output_type": "execute_result",
          "data": {
            "text/plain": [
              "array([[1],\n",
              "       [2],\n",
              "       [3]])"
            ]
          },
          "metadata": {},
          "execution_count": 62
        }
      ]
    },
    {
      "cell_type": "code",
      "metadata": {
        "colab": {
          "base_uri": "https://localhost:8080/"
        },
        "id": "amdHKJ8mshfz",
        "outputId": "b3839b4e-d253-45ad-ca62-a04a5fb27a38"
      },
      "source": [
        "# column vector via newaxis\n",
        "x[:, np.newaxis]"
      ],
      "execution_count": null,
      "outputs": [
        {
          "output_type": "execute_result",
          "data": {
            "text/plain": [
              "array([[1],\n",
              "       [2],\n",
              "       [3]])"
            ]
          },
          "metadata": {},
          "execution_count": 64
        }
      ]
    },
    {
      "cell_type": "markdown",
      "metadata": {
        "id": "1wwOZ-z4svx7"
      },
      "source": [
        "# Array Concatenation and splitting"
      ]
    },
    {
      "cell_type": "markdown",
      "metadata": {
        "id": "0tZGj9wcs5zl"
      },
      "source": [
        "All of the preceding routines worked on single arrays. It’s also possible to combine multiple arrays into one, and to conversely split a single array into multiple arrays. We’ll take a look at those operations here. \n",
        "\n",
        "Concatenation of arrays Concatenation, or joining of two arrays in NumPy, is primarily accomplished through the routines np.concatenate, np.vstack, and np.hstack. np.concatenate takes a tuple or list of arrays as its first argument, as we can see here: "
      ]
    },
    {
      "cell_type": "code",
      "metadata": {
        "colab": {
          "base_uri": "https://localhost:8080/"
        },
        "id": "V-ewR6K2tH_D",
        "outputId": "0dbcac58-6d9b-4864-d8f9-82e57d70514d"
      },
      "source": [
        "x = np.array([1, 2, 3])\n",
        "y = np.array([3, 2, 1])\n",
        "np.concatenate([x, y]) "
      ],
      "execution_count": null,
      "outputs": [
        {
          "output_type": "execute_result",
          "data": {
            "text/plain": [
              "array([1, 2, 3, 3, 2, 1])"
            ]
          },
          "metadata": {},
          "execution_count": 65
        }
      ]
    },
    {
      "cell_type": "code",
      "metadata": {
        "id": "G39I4iO6tOha"
      },
      "source": [
        "z = [99, 99, 99]"
      ],
      "execution_count": null,
      "outputs": []
    },
    {
      "cell_type": "code",
      "metadata": {
        "colab": {
          "base_uri": "https://localhost:8080/"
        },
        "id": "87EUrJwMtSYm",
        "outputId": "cb19f536-86e3-4072-be2a-826261920e8d"
      },
      "source": [
        "print(np.concatenate([x, y, z])) "
      ],
      "execution_count": null,
      "outputs": [
        {
          "output_type": "stream",
          "name": "stdout",
          "text": [
            "[ 1  2  3  3  2  1 99 99 99]\n"
          ]
        }
      ]
    },
    {
      "cell_type": "code",
      "metadata": {
        "id": "ulO7fOJEtXaa"
      },
      "source": [
        "grid = np.array([[1, 2, 3],[4, 5, 6]]) "
      ],
      "execution_count": null,
      "outputs": []
    },
    {
      "cell_type": "code",
      "metadata": {
        "colab": {
          "base_uri": "https://localhost:8080/"
        },
        "id": "qOlZmpHstbOJ",
        "outputId": "96702d43-217b-4b3d-98ed-6b73c4eb6df2"
      },
      "source": [
        "# concatenate along the first axis\n",
        "np.concatenate([grid, grid]) "
      ],
      "execution_count": null,
      "outputs": [
        {
          "output_type": "execute_result",
          "data": {
            "text/plain": [
              "array([[1, 2, 3],\n",
              "       [4, 5, 6],\n",
              "       [1, 2, 3],\n",
              "       [4, 5, 6]])"
            ]
          },
          "metadata": {},
          "execution_count": 70
        }
      ]
    },
    {
      "cell_type": "code",
      "metadata": {
        "colab": {
          "base_uri": "https://localhost:8080/"
        },
        "id": "mXU2Yrv_tfSG",
        "outputId": "d09c30f5-0b22-434f-b0f2-d6c26a6b10c2"
      },
      "source": [
        " # concatenate along the second axis (zero-indexed)\n",
        " np.concatenate([grid, grid], axis=1) "
      ],
      "execution_count": null,
      "outputs": [
        {
          "output_type": "execute_result",
          "data": {
            "text/plain": [
              "array([[1, 2, 3, 1, 2, 3],\n",
              "       [4, 5, 6, 4, 5, 6]])"
            ]
          },
          "metadata": {},
          "execution_count": 71
        }
      ]
    },
    {
      "cell_type": "markdown",
      "metadata": {
        "id": "cYO9Fiaxtobm"
      },
      "source": [
        "For working with arrays of mixed dimensions, it can be clearer to use the np.vstack (vertical stack) and np.hstack (horizontal stack) functions: "
      ]
    },
    {
      "cell_type": "markdown",
      "metadata": {
        "id": "IKsdNQBEuTRW"
      },
      "source": [
        "\n",
        "\n",
        "```\n",
        "# This is formatted as code\n",
        "```\n",
        "\n",
        "Splitting of arrays The opposite of concatenation is splitting, which is implemented by the functions np.split, np.hsplit, and np.vsplit. For each of these, we can pass a list of indices giving the split points: "
      ]
    },
    {
      "cell_type": "code",
      "metadata": {
        "id": "WghJHDyGvWSU"
      },
      "source": [
        "from numpy import *"
      ],
      "execution_count": null,
      "outputs": []
    }
  ]
}